{
  "cells": [
    {
      "cell_type": "code",
      "source": [
        "#Explain the significance of Python keywords and provide examples of five keywords\n",
        "'''Python keywords are reserved keywords provided by python framework which can be used by the programmers for various\n",
        "application and purposes there are 36 python keywords\n",
        "some examples are :-\n",
        "if, elif, else, or, and etc\n",
        "'''\n",
        "del int\n",
        "a = int(input(\"Enter a number\"))\n",
        "if a % 2 == 0:\n",
        "  print(\"Number is even\")\n",
        "elif a % 2 != 0:\n",
        "  print(\"Number is odd\")\n",
        "else:\n",
        " print(\"Enter a valid number\")"
      ],
      "metadata": {
        "colab": {
          "base_uri": "https://localhost:8080/"
        },
        "id": "H-d2_P79Us5d",
        "outputId": "fc063c05-98c5-4b77-ed6c-2523db837003"
      },
      "execution_count": 24,
      "outputs": [
        {
          "output_type": "stream",
          "name": "stdout",
          "text": [
            "Enter a number0\n",
            "Number is even\n"
          ]
        }
      ]
    },
    {
      "cell_type": "code",
      "source": [
        "#Descri0e the rules for defining identifiers in Python and provide an example\n",
        "\n",
        "'''\n",
        "These are the rules for identifiers in python\n",
        "\n",
        "1. Keywords cannot be used as identifiers in python (because they are reserved words)\n",
        "2. The name of identifiers in python cannot begin with a number\n",
        "3. All the identifiers in python should have a unique name in the same scope\n",
        "4. The first character of identifiers in python should always start with an alphabet or underscore, and then it can be followed by any of the digit, character, or underscore.\n",
        "5. Identifier name length is unrestricted\n",
        "6. Names of identifiers in python are case sensitive meaning ‘car’ and ‘Car’, Would be treated differently\n",
        "7. Special characters such as ‘%’, ‘#’,’@’, and ‘$’ are not allowed as identifiers in python.\n",
        "'''"
      ],
      "metadata": {
        "colab": {
          "base_uri": "https://localhost:8080/",
          "height": 107
        },
        "id": "aDjveIbjVkXg",
        "outputId": "de832ca5-b139-4d67-d31a-3cb755885126"
      },
      "execution_count": 25,
      "outputs": [
        {
          "output_type": "execute_result",
          "data": {
            "text/plain": [
              "'\\nThese are the rules for identifiers in python\\n\\n1. Keywords cannot be used as identifiers in python (because they are reserved words)\\n2. The name of identifiers in python cannot begin with a number\\n3. All the identifiers in python should have a unique name in the same scope\\n4. The first character of identifiers in python should always start with an alphabet or underscore, and then it can be followed by any of the digit, character, or underscore.\\n5. Identifier name length is unrestricted\\n6. Names of identifiers in python are case sensitive meaning ‘car’ and ‘Car’\\n7. Would be treated differently\\n8. Special characters such as ‘%’, ‘#’,’@’, and ‘$’ are not allowed as identifiers in python.\\n'"
            ],
            "application/vnd.google.colaboratory.intrinsic+json": {
              "type": "string"
            }
          },
          "metadata": {},
          "execution_count": 25
        }
      ]
    },
    {
      "cell_type": "code",
      "source": [
        "#What are comments in Python, and why are they useful6 Provide an example\n",
        "'''\n",
        "Comments are ignorable code in the python that gives meaning to the programmer but has no impact on the actual code.\n",
        "'''"
      ],
      "metadata": {
        "colab": {
          "base_uri": "https://localhost:8080/",
          "height": 35
        },
        "id": "sXuLa3D6XUZs",
        "outputId": "dd153a9f-3a0f-47da-d8b2-c61ccaafd38d"
      },
      "execution_count": 26,
      "outputs": [
        {
          "output_type": "execute_result",
          "data": {
            "text/plain": [
              "'\\nComments are ignorable code in the python that gives meaning to the programmer but has no impact on the actual code \\n'"
            ],
            "application/vnd.google.colaboratory.intrinsic+json": {
              "type": "string"
            }
          },
          "metadata": {},
          "execution_count": 26
        }
      ]
    },
    {
      "cell_type": "code",
      "source": [
        "#Why is proper indentation important in Python\n",
        "#What happens if indentation is incorrect in Python\n",
        "'''\n",
        "Indentation refers to the spaces at the beginning of a code line.\n",
        "Where in other programming languages the indentation in code is for readability only,\n",
        "the indentation in Python is very important. Python uses indentation to indicate a block of code.\n",
        "Proper indentation is important in python because it gives sense to the imterpreter, how to execute the code for example:-\n",
        "\n",
        "for i in range(5):\n",
        "  print(\"Hello\")\n",
        "\n",
        "Without indentation in the print statement for loop do not know what to execute, therefore indentation give sense of domain '''\n"
      ],
      "metadata": {
        "colab": {
          "base_uri": "https://localhost:8080/",
          "height": 53
        },
        "id": "_O1iqAWUX5NI",
        "outputId": "56e923d2-b4a1-455d-c5b6-2b6cf60ff2b2"
      },
      "execution_count": 27,
      "outputs": [
        {
          "output_type": "execute_result",
          "data": {
            "text/plain": [
              "'\\nProper indentation is important in python because it gives sense to the imterpretor, how to execute the code for example:-\\n\\nfor i in range(5):\\n  print(\"Hello\")\\n\\nwithout indentation in the print statement for loop do not know what to execute, therefore indentation give sense of domain '"
            ],
            "application/vnd.google.colaboratory.intrinsic+json": {
              "type": "string"
            }
          },
          "metadata": {},
          "execution_count": 27
        }
      ]
    },
    {
      "cell_type": "code",
      "source": [
        "#Differentiate between expression and statement in Python with examples\n",
        "'''\n",
        "A statement in Python is used for creating variables or for displaying values.\n",
        "The expression in Python produces some value or result after being interpreted by the Python interpreter.\n",
        "A statement in Python is not evaluated for some results. An expression in Python is evaluated for some results."
      ],
      "metadata": {
        "id": "taPPO3ppacKu"
      },
      "execution_count": null,
      "outputs": []
    }
  ],
  "metadata": {
    "colab": {
      "provenance": []
    },
    "kernelspec": {
      "display_name": "Python 3",
      "name": "python3"
    },
    "language_info": {
      "name": "python"
    }
  },
  "nbformat": 4,
  "nbformat_minor": 0
}